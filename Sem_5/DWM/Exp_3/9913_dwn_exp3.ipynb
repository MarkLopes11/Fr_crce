{
 "cells": [
  {
   "cell_type": "code",
   "execution_count": 1,
   "metadata": {},
   "outputs": [],
   "source": [
    "import numpy as np\n",
    "import pandas as pd\n",
    "import matplotlib.pyplot as plt"
   ]
  },
  {
   "cell_type": "code",
   "execution_count": 3,
   "metadata": {},
   "outputs": [
    {
     "name": "stdout",
     "output_type": "stream",
     "text": [
      "   age  sex  cp  trestbps   chol  fbs  restecg  thalach  exang  oldpeak  \\\n",
      "0   63    1   3     145.0  233.0    1        0    150.0      0      2.3   \n",
      "1   37    1   2     130.0  250.0    0        1    187.0      0      3.5   \n",
      "2   41    0   1     130.0    NaN    0        0    172.0      0      1.4   \n",
      "3   56    1   1     120.0    NaN    0        1    178.0      0      0.8   \n",
      "4   57    0   0     120.0  354.0    0        1    163.0      1      0.6   \n",
      "\n",
      "   slope  ca  thal  target  \n",
      "0      0   0     1       1  \n",
      "1      0   0     2       1  \n",
      "2      2   0     2       1  \n",
      "3      2   0     2       1  \n",
      "4      2   0     2       1  \n",
      "age         0\n",
      "sex         0\n",
      "cp          0\n",
      "trestbps    2\n",
      "chol        2\n",
      "fbs         0\n",
      "restecg     0\n",
      "thalach     2\n",
      "exang       0\n",
      "oldpeak     0\n",
      "slope       0\n",
      "ca          0\n",
      "thal        0\n",
      "target      0\n",
      "dtype: int64\n",
      "              age         sex          cp    trestbps        chol         fbs  \\\n",
      "count  303.000000  303.000000  303.000000  301.000000  301.000000  303.000000   \n",
      "mean    54.366337    0.683168    0.966997  131.568106  246.438538    0.148515   \n",
      "std      9.082101    0.466011    1.032052   17.583122   51.942279    0.356198   \n",
      "min     29.000000    0.000000    0.000000   94.000000  126.000000    0.000000   \n",
      "25%     47.500000    0.000000    0.000000  120.000000  211.000000    0.000000   \n",
      "50%     55.000000    1.000000    1.000000  130.000000  241.000000    0.000000   \n",
      "75%     61.000000    1.000000    2.000000  140.000000  275.000000    0.000000   \n",
      "max     77.000000    1.000000    3.000000  200.000000  564.000000    1.000000   \n",
      "\n",
      "          restecg     thalach       exang     oldpeak       slope          ca  \\\n",
      "count  303.000000  301.000000  303.000000  303.000000  303.000000  303.000000   \n",
      "mean     0.528053  149.528239    0.326733    1.039604    1.399340    0.729373   \n",
      "std      0.525860   22.930403    0.469794    1.161075    0.616226    1.022606   \n",
      "min      0.000000   71.000000    0.000000    0.000000    0.000000    0.000000   \n",
      "25%      0.000000  133.000000    0.000000    0.000000    1.000000    0.000000   \n",
      "50%      1.000000  152.000000    0.000000    0.800000    1.000000    0.000000   \n",
      "75%      1.000000  166.000000    1.000000    1.600000    2.000000    1.000000   \n",
      "max      2.000000  202.000000    1.000000    6.200000    2.000000    4.000000   \n",
      "\n",
      "             thal      target  \n",
      "count  303.000000  303.000000  \n",
      "mean     2.313531    0.544554  \n",
      "std      0.612277    0.498835  \n",
      "min      0.000000    0.000000  \n",
      "25%      2.000000    0.000000  \n",
      "50%      2.000000    1.000000  \n",
      "75%      3.000000    1.000000  \n",
      "max      3.000000    1.000000  \n",
      "target\n",
      "1    165\n",
      "0    138\n",
      "Name: count, dtype: int64\n"
     ]
    }
   ],
   "source": [
    "heart_disease = pd.read_csv(\"heart.csv\")  \n",
    "print(heart_disease.head())\n",
    "\n",
    "# Check for missing values\n",
    "print(heart_disease.isnull().sum())\n",
    "\n",
    "print(heart_disease.describe())\n",
    "\n",
    "print(heart_disease[\"target\"].value_counts())\n",
    "\n"
   ]
  },
  {
   "cell_type": "code",
   "execution_count": null,
   "metadata": {},
   "outputs": [],
   "source": [
    "# Box plot\n",
    "# heart_disease.boxplot(column=\"age\", by=\"target\", ax=ax, grid=False)\n",
    "# plt.xlabel(\"Heart Disease\")\n",
    "# plt.ylabel(\"Age\")\n",
    "# plt.title(\"Age Distribution by Heart Disease\")\n",
    "# plt.show()\n",
    "\n",
    "# heart_disease.boxplot(column=\"chol\", by=\"target\", ax=ax, grid=False)\n",
    "# plt.xlabel(\"Heart Disease (0 = No, 1 = Yes)\")\n",
    "# plt.ylabel(\"Serum Cholesterol (mg/dl)\")\n",
    "# plt.title(\"Cholesterol Levels by Heart Disease\")\n",
    "# plt.suptitle('')  # Suppress the default title\n",
    "# plt.show()\n",
    "\n",
    "# heart_disease.boxplot(column=\"thalach\", by=\"cp\", ax=ax, grid=False)\n",
    "# plt.xlabel(\"Chest Pain Type\")\n",
    "# plt.ylabel(\"Maximum Heart Rate Achieved\")\n",
    "# plt.title(\"Heart Rate by Chest Pain Type\")\n",
    "# plt.suptitle('')  # Suppress the default title\n",
    "# plt.show()\n"
   ]
  }
 ],
 "metadata": {
  "kernelspec": {
   "display_name": "Python 3.8.10 64-bit",
   "language": "python",
   "name": "python3"
  },
  "language_info": {
   "codemirror_mode": {
    "name": "ipython",
    "version": 3
   },
   "file_extension": ".py",
   "mimetype": "text/x-python",
   "name": "python",
   "nbconvert_exporter": "python",
   "pygments_lexer": "ipython3",
   "version": "3.12.0"
  },
  "orig_nbformat": 4,
  "vscode": {
   "interpreter": {
    "hash": "e7370f93d1d0cde622a1f8e1c04877d8463912d04d973331ad4851f04de6915a"
   }
  }
 },
 "nbformat": 4,
 "nbformat_minor": 2
}
