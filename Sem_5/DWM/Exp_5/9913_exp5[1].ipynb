{
 "cells": [
  {
   "cell_type": "code",
   "execution_count": 3,
   "metadata": {
    "id": "v6UjENiraGxe"
   },
   "outputs": [],
   "source": [
    "import pandas as pd"
   ]
  },
  {
   "cell_type": "code",
   "execution_count": 4,
   "metadata": {
    "id": "GPucY3Mmaf4A"
   },
   "outputs": [],
   "source": [
    "Data_Frame = pd.read_csv('./PlayTennis.csv')"
   ]
  },
  {
   "cell_type": "code",
   "execution_count": 5,
   "metadata": {
    "id": "ffrpVahicNos"
   },
   "outputs": [],
   "source": [
    "import numpy as np\n",
    "from collections import Counter\n",
    "\n",
    "# Function to calculate entropy\n",
    "def entropy(y):\n",
    "    counts = np.bincount(y)\n",
    "    probabilities = counts / len(y)\n",
    "    return -np.sum([p * np.log2(p) for p in probabilities if p > 0])\n",
    "\n",
    "# Function to calculate information gain\n",
    "def information_gain(X, y, feature_index):\n",
    "    # Calculate entropy before the split\n",
    "    entropy_before = entropy(y)\n",
    "\n",
    "    # Split data based on the feature\n",
    "    values = np.unique(X[:, feature_index])\n",
    "    entropy_after = 0\n",
    "\n",
    "    for value in values:\n",
    "        subset_y = y[X[:, feature_index] == value]\n",
    "        entropy_after += (len(subset_y) / len(y)) * entropy(subset_y)\n",
    "\n",
    "    # Information gain is the reduction in entropy\n",
    "    return entropy_before - entropy_after\n",
    "\n",
    "# Function to find the best feature to split on\n",
    "def best_feature_to_split(X, y):\n",
    "    best_gain = 0\n",
    "    best_feature = None\n",
    "\n",
    "    for feature_index in range(X.shape[1]):\n",
    "        gain = information_gain(X, y, feature_index)\n",
    "        if gain > best_gain:\n",
    "            best_gain = gain\n",
    "            best_feature = feature_index\n",
    "\n",
    "    return best_feature\n",
    "\n",
    "# Function to check for homogeneity\n",
    "def is_homogeneous(y):\n",
    "    return len(np.unique(y)) == 1\n",
    "\n",
    "# ID3 Algorithm\n",
    "def id3(X, y, feature_names):\n",
    "    # Step 2: Check for homogeneity\n",
    "    if is_homogeneous(y):\n",
    "        return y[0]\n",
    "\n",
    "    # Step 8: Stopping criteria - No more features to split on\n",
    "    if len(feature_names) == 0:\n",
    "        return Counter(y).most_common(1)[0][0]\n",
    "\n",
    "    # Step 5: Select the best feature\n",
    "    best_feature_index = best_feature_to_split(X, y)\n",
    "    best_feature_name = feature_names[best_feature_index]\n",
    "\n",
    "    # Create the tree structure\n",
    "    tree = {best_feature_name: {}}\n",
    "\n",
    "    # Step 6: Split the dataset\n",
    "    feature_values = np.unique(X[:, best_feature_index])\n",
    "    for value in feature_values:\n",
    "        subset_X = X[X[:, best_feature_index] == value]\n",
    "        subset_y = y[X[:, best_feature_index] == value]\n",
    "\n",
    "        # Remove the best feature from the feature list\n",
    "        new_feature_names = feature_names[:best_feature_index] + feature_names[best_feature_index+1:]\n",
    "\n",
    "        # Step 7: Repeat the process for subsets\n",
    "        subtree = id3(subset_X, subset_y, new_feature_names)\n",
    "        tree[best_feature_name][value] = subtree\n",
    "        return tree"
   ]
  },
  {
   "cell_type": "code",
   "execution_count": 6,
   "metadata": {
    "colab": {
     "base_uri": "https://localhost:8080/"
    },
    "id": "j2sr-eNuap6G",
    "outputId": "f6ff5ff3-a21b-4336-8c59-2037db15523a"
   },
   "outputs": [
    {
     "name": "stdout",
     "output_type": "stream",
     "text": [
      "     Outlook Temperature Humidity    Wind Play Tennis\n",
      "0      Sunny         Hot     High    Weak          No\n",
      "1      Sunny         Hot     High  Strong          No\n",
      "2   Overcast         Hot     High    Weak         Yes\n",
      "3       Rain        Mild     High    Weak         Yes\n",
      "4       Rain        Cool   Normal    Weak         Yes\n",
      "5       Rain        Cool   Normal  Strong          No\n",
      "6   Overcast        Cool   Normal  Strong         Yes\n",
      "7      Sunny        Mild     High    Weak          No\n",
      "8      Sunny        Cool   Normal    Weak         Yes\n",
      "9       Rain        Mild   Normal    Weak         Yes\n",
      "10     Sunny        Mild   Normal  Strong         Yes\n",
      "11  Overcast        Mild     High  Strong         Yes\n",
      "12  Overcast         Hot   Normal    Weak         Yes\n",
      "13      Rain        Mild     High  Strong          No\n"
     ]
    }
   ],
   "source": [
    "print(Data_Frame)"
   ]
  },
  {
   "cell_type": "code",
   "execution_count": 7,
   "metadata": {
    "colab": {
     "base_uri": "https://localhost:8080/"
    },
    "id": "H0_kjE6_av6g",
    "outputId": "32ee7de1-3099-4ded-f366-c0cccd3ad6f7"
   },
   "outputs": [
    {
     "name": "stdout",
     "output_type": "stream",
     "text": [
      "['Outlook', 'Temperature', 'Humidity', 'Wind']\n",
      "Decision Tree: {'Outlook': {0: 1}}\n"
     ]
    }
   ],
   "source": [
    "# Example usage\n",
    "if __name__ == \"__main__\":\n",
    "    # Example dataset\n",
    "\n",
    "    df = pd.DataFrame(Data_Frame)\n",
    "\n",
    "    # Convert categorical data to numerical\n",
    "    for column in df.columns:\n",
    "        df[column] = df[column].astype('category').cat.codes\n",
    "\n",
    "    X = df.drop(columns='Play Tennis').values\n",
    "    y = df['Play Tennis'].values\n",
    "    feature_names = df.drop(columns='Play Tennis').columns.tolist()\n",
    "    print(feature_names)\n",
    "\n",
    "    # Build the decision tree\n",
    "    decision_tree = id3(X, y, feature_names)\n",
    "    print(\"Decision Tree:\", decision_tree)"
   ]
  },
  {
   "cell_type": "code",
   "execution_count": 8,
   "metadata": {
    "colab": {
     "base_uri": "https://localhost:8080/"
    },
    "id": "mvwsAinVdGv5",
    "outputId": "6ca4bb57-bed4-4c7b-acec-6e579d57de63"
   },
   "outputs": [
    {
     "name": "stdout",
     "output_type": "stream",
     "text": [
      "['Outlook', 'Humidity', 'Wind', 'Play Tennis']\n",
      "Decision Tree: {'u': {0: {'H': {0: {'d': {0: 2}}}}}}\n"
     ]
    }
   ],
   "source": [
    "    X = df.drop(columns='Temperature').values\n",
    "    y = df['Temperature'].values\n",
    "    feature_names = df.drop(columns='Temperature').columns.tolist()\n",
    "    print(feature_names)\n",
    "    # Build the decision tree\n",
    "    decision_tree = id3(X, y, feature_names[1])\n",
    "    print(\"Decision Tree:\", decision_tree)"
   ]
  },
  {
   "cell_type": "code",
   "execution_count": 9,
   "metadata": {
    "colab": {
     "base_uri": "https://localhost:8080/"
    },
    "id": "JXb0SQakgPZT",
    "outputId": "f488c1be-720b-4da8-e707-04faad39bbda"
   },
   "outputs": [
    {
     "name": "stdout",
     "output_type": "stream",
     "text": [
      "['Temperature', 'Humidity', 'Wind', 'Play Tennis']\n",
      "Decision Tree: {'d': {0: {'W': {0: 1}}}}\n"
     ]
    }
   ],
   "source": [
    "    X = df.drop(columns='Outlook').values\n",
    "    y = df['Outlook'].values\n",
    "    feature_names = df.drop(columns='Outlook').columns.tolist()\n",
    "    print(feature_names)\n",
    "    # Build the decision tree\n",
    "    decision_tree = id3(X, y, feature_names[2])\n",
    "    print(\"Decision Tree:\", decision_tree)"
   ]
  }
 ],
 "metadata": {
  "colab": {
   "provenance": []
  },
  "kernelspec": {
   "display_name": "Python 3.8.10 64-bit",
   "language": "python",
   "name": "python3"
  },
  "language_info": {
   "codemirror_mode": {
    "name": "ipython",
    "version": 3
   },
   "file_extension": ".py",
   "mimetype": "text/x-python",
   "name": "python",
   "nbconvert_exporter": "python",
   "pygments_lexer": "ipython3",
   "version": "3.12.0"
  },
  "vscode": {
   "interpreter": {
    "hash": "e7370f93d1d0cde622a1f8e1c04877d8463912d04d973331ad4851f04de6915a"
   }
  }
 },
 "nbformat": 4,
 "nbformat_minor": 1
}
