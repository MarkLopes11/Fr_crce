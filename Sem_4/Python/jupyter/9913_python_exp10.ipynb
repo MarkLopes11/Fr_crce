{
 "cells": [
  {
   "cell_type": "code",
   "execution_count": 3,
   "id": "c8657463-d0e9-43c8-9f60-6f6242f44c32",
   "metadata": {},
   "outputs": [],
   "source": [
    "import pandas as pd"
   ]
  },
  {
   "cell_type": "code",
   "execution_count": 6,
   "id": "e0a7ceb9-80ac-49af-adb4-8c70c9bce3cd",
   "metadata": {},
   "outputs": [
    {
     "name": "stdout",
     "output_type": "stream",
     "text": [
      "    Name  Age         City\n",
      "0   John   25     New York\n",
      "1  Alice   30  Los Angeles\n",
      "2    Bob   35      Chicago\n"
     ]
    }
   ],
   "source": [
    "data = {'Name': ['John', 'Alice', 'Bob'],\n",
    "        'Age': [25, 30, 35],\n",
    "        'City': ['New York', 'Los Angeles', 'Chicago']}\n",
    "\n",
    "df = pd.DataFrame(data)\n",
    "\n",
    "print(df)\n"
   ]
  },
  {
   "cell_type": "code",
   "execution_count": 7,
   "id": "7ee678c2-f27e-4bb4-9824-d2a46772240c",
   "metadata": {},
   "outputs": [
    {
     "name": "stdout",
     "output_type": "stream",
     "text": [
      "    Name  Age         City  Gender\n",
      "0   John   25     New York    Male\n",
      "1  Alice   30  Los Angeles  Female\n",
      "2    Bob   35      Chicago    Male\n"
     ]
    }
   ],
   "source": [
    "df['Gender'] = ['Male', 'Female', 'Male']\n",
    "\n",
    "print(df)"
   ]
  },
  {
   "cell_type": "code",
   "execution_count": 8,
   "id": "eeeb5440-61d1-48a9-9ebf-687af68c3acc",
   "metadata": {},
   "outputs": [
    {
     "name": "stdout",
     "output_type": "stream",
     "text": [
      "       Age         City  Gender\n",
      "Name                           \n",
      "John    25     New York    Male\n",
      "Alice   30  Los Angeles  Female\n",
      "Bob     35      Chicago    Male\n"
     ]
    }
   ],
   "source": [
    "# Set column 'Name' as index\n",
    "df.set_index('Name', inplace=True)\n",
    "\n",
    "print(df)"
   ]
  },
  {
   "cell_type": "code",
   "execution_count": 9,
   "id": "e1cf3efd-0c4a-4d76-bee8-66778bf397b0",
   "metadata": {},
   "outputs": [
    {
     "name": "stdout",
     "output_type": "stream",
     "text": [
      "       Years     Location     Sex\n",
      "Name                             \n",
      "John      25     New York    Male\n",
      "Alice     30  Los Angeles  Female\n",
      "Bob       35      Chicago    Male\n"
     ]
    }
   ],
   "source": [
    "# Rename columns\n",
    "df.rename(columns={'Age': 'Years', 'City': 'Location', 'Gender': 'Sex'}, inplace=True)\n",
    "\n",
    "print(df)\n"
   ]
  },
  {
   "cell_type": "code",
   "execution_count": 10,
   "id": "8071d460-bd4a-4fb7-9106-928eebed5552",
   "metadata": {},
   "outputs": [
    {
     "name": "stdout",
     "output_type": "stream",
     "text": [
      "      Years Location   Sex\n",
      "Name                      \n",
      "Bob      35  Chicago  Male\n"
     ]
    }
   ],
   "source": [
    "# Filter rows where age is greater than 30\n",
    "filtered_df = df[df['Years'] > 30]\n",
    "\n",
    "print(filtered_df)\n"
   ]
  },
  {
   "cell_type": "code",
   "execution_count": 11,
   "id": "ed1f41dc-3b0d-4934-b162-b35966dd527c",
   "metadata": {},
   "outputs": [
    {
     "name": "stdout",
     "output_type": "stream",
     "text": [
      "       Years     Location     Sex\n",
      "Name                             \n",
      "John      25     New York    Male\n",
      "Alice     30  Los Angeles  Female\n",
      "Bob       35      Chicago    Male\n"
     ]
    }
   ],
   "source": [
    "# Sort DataFrame based on values in column 'Years'\n",
    "sorted_df = df.sort_values(by='Years')\n",
    "\n",
    "print(sorted_df)\n"
   ]
  },
  {
   "cell_type": "code",
   "execution_count": 12,
   "id": "ed4fd4f6-177b-461c-9adf-6f355184e76d",
   "metadata": {},
   "outputs": [
    {
     "name": "stdout",
     "output_type": "stream",
     "text": [
      "       Years     Location     Sex  Income\n",
      "Name                                     \n",
      "John      25     New York    Male   50000\n",
      "Alice     30  Los Angeles  Female   60000\n"
     ]
    }
   ],
   "source": [
    "# Create another DataFrame with a common index\n",
    "other_data = {'Name': ['John', 'Alice'],\n",
    "              'Income': [50000, 60000]}\n",
    "other_df = pd.DataFrame(other_data).set_index('Name')\n",
    "\n",
    "# Merge two DataFrames\n",
    "merged_df = df.merge(other_df, left_index=True, right_index=True, how='inner')\n",
    "\n",
    "# Print merged DataFrame\n",
    "print(merged_df)\n"
   ]
  },
  {
   "cell_type": "code",
   "execution_count": 33,
   "id": "0474f87b-2023-4121-8401-beb707c38ba8",
   "metadata": {},
   "outputs": [
    {
     "name": "stdout",
     "output_type": "stream",
     "text": [
      "First five rows:\n",
      "   Pregnant  Glucose  Diastolic_BP  Skin_Fold  Serum_Insulin   BMI  \\\n",
      "0         6    148.0          72.0       35.0            NaN  33.6   \n",
      "1         1     85.0          66.0       29.0            NaN  26.6   \n",
      "2         8    183.0          64.0        NaN            NaN  23.3   \n",
      "3         1     89.0          66.0       23.0           94.0  28.1   \n",
      "4         0    137.0          40.0       35.0          168.0  43.1   \n",
      "\n",
      "   Diabetes_Pedigree  Age  Class  \n",
      "0              0.627   50      1  \n",
      "1              0.351   31      0  \n",
      "2              0.672   32      1  \n",
      "3              0.167   21      0  \n",
      "4              2.288   33      1  \n",
      "\n",
      "Last five rows:\n",
      "     Pregnant  Glucose  Diastolic_BP  Skin_Fold  Serum_Insulin   BMI  \\\n",
      "763        10    101.0          76.0       48.0          180.0  32.9   \n",
      "764         2    122.0          70.0       27.0            NaN  36.8   \n",
      "765         5    121.0          72.0       23.0          112.0  26.2   \n",
      "766         1    126.0          60.0        NaN            NaN  30.1   \n",
      "767         1     93.0          70.0       31.0            NaN  30.4   \n",
      "\n",
      "     Diabetes_Pedigree  Age  Class  \n",
      "763              0.171   63      0  \n",
      "764              0.340   27      0  \n",
      "765              0.245   30      0  \n",
      "766              0.349   47      1  \n",
      "767              0.315   23      0  \n"
     ]
    }
   ],
   "source": [
    "# Read csv file\n",
    "diabetes_df = pd.read_csv('https://raw.githubusercontent.com/YBI-Foundation/Dataset/main/Diabetes%20Missing%20Data.csv')\n",
    "\n",
    "# Display first five rows\n",
    "print(\"First five rows:\")\n",
    "print(diabetes_df.head())\n",
    "\n",
    "# Display last five rows\n",
    "print(\"\\nLast five rows:\")\n",
    "print(diabetes_df.tail())\n"
   ]
  },
  {
   "cell_type": "code",
   "execution_count": 26,
   "id": "03281343-f08d-4e82-984a-3a38555e068d",
   "metadata": {},
   "outputs": [
    {
     "name": "stdout",
     "output_type": "stream",
     "text": [
      "\n",
      "Summary statistics:\n",
      "       Years\n",
      "count    3.0\n",
      "mean    30.0\n",
      "std      5.0\n",
      "min     25.0\n",
      "25%     27.5\n",
      "50%     30.0\n",
      "75%     32.5\n",
      "max     35.0\n"
     ]
    }
   ],
   "source": [
    "summary_statistics = df.describe()\n",
    "print(\"\\nSummary statistics:\")\n",
    "print(summary_statistics)"
   ]
  },
  {
   "cell_type": "code",
   "execution_count": 34,
   "id": "961a0287-e4dd-4e55-9ae0-7176878c10d6",
   "metadata": {},
   "outputs": [
    {
     "name": "stdout",
     "output_type": "stream",
     "text": [
      "\n",
      "Missing values:\n",
      "Pregnant               0\n",
      "Glucose                5\n",
      "Diastolic_BP          35\n",
      "Skin_Fold            227\n",
      "Serum_Insulin        374\n",
      "BMI                   11\n",
      "Diabetes_Pedigree      0\n",
      "Age                    0\n",
      "Class                  0\n",
      "dtype: int64\n",
      "\n",
      "Missing values after replacement:\n",
      "Pregnant             0\n",
      "Glucose              0\n",
      "Diastolic_BP         0\n",
      "Skin_Fold            0\n",
      "Serum_Insulin        0\n",
      "BMI                  0\n",
      "Diabetes_Pedigree    0\n",
      "Age                  0\n",
      "Class                0\n",
      "dtype: int64\n",
      "\n",
      "Updated DataFrame:\n",
      "   Pregnant  Glucose  Diastolic_BP  Skin_Fold  Serum_Insulin   BMI  \\\n",
      "0         6    148.0          72.0   35.00000     155.548223  33.6   \n",
      "1         1     85.0          66.0   29.00000     155.548223  26.6   \n",
      "2         8    183.0          64.0   29.15342     155.548223  23.3   \n",
      "3         1     89.0          66.0   23.00000      94.000000  28.1   \n",
      "4         0    137.0          40.0   35.00000     168.000000  43.1   \n",
      "\n",
      "   Diabetes_Pedigree  Age  Class  \n",
      "0              0.627   50      1  \n",
      "1              0.351   31      0  \n",
      "2              0.672   32      1  \n",
      "3              0.167   21      0  \n",
      "4              2.288   33      1  \n"
     ]
    }
   ],
   "source": [
    "url = \"https://raw.githubusercontent.com/YBI-Foundation/Dataset/main/Diabetes%20Missing%20Data.csv\"\n",
    "df = pd.read_csv(url)\n",
    "\n",
    "missing_values = df.isnull().sum()\n",
    "print(\"\\nMissing values:\")\n",
    "print(missing_values)\n",
    "\n",
    "# Replace missing values by mean of the column\n",
    "for column in df.columns:\n",
    "    if df[column].dtype != 'object':  # Check if column is numeric\n",
    "        df[column] = df[column].fillna(df[column].mean())\n",
    "\n",
    "# Verify missing values after replacement\n",
    "print(\"\\nMissing values after replacement:\")\n",
    "print(df.isnull().sum())\n",
    "\n",
    "# Display first few rows of the updated DataFrame\n",
    "print(\"\\nUpdated DataFrame:\")\n",
    "print(df.head())"
   ]
  },
  {
   "cell_type": "code",
   "execution_count": 38,
   "id": "66567b46-374e-4cbe-b8af-b172e22d1b3c",
   "metadata": {},
   "outputs": [
    {
     "name": "stdout",
     "output_type": "stream",
     "text": [
      "Series:\n",
      "1    45\n",
      "2    78\n",
      "3    92\n",
      "4    35\n",
      "5    68\n",
      "dtype: int64\n",
      "\n",
      "Sum: 318\n",
      "Mean: 63.6\n",
      "Median: 68.0\n",
      "Standard Deviation: 23.43714999738663\n"
     ]
    }
   ],
   "source": [
    "# Create a list of data\n",
    "data = [45, 78, 92, 35, 68]\n",
    "\n",
    "# Custom index labels\n",
    "custom_index = ['1', '2', '3', '4', '5']\n",
    "\n",
    "# Create a Series with custom index labels\n",
    "series = pd.Series(data, index=custom_index)\n",
    "\n",
    "print(\"Series:\")\n",
    "print(series)\n",
    "\n",
    "# Calculate sum\n",
    "sum_value = series.sum()\n",
    "print(\"\\nSum:\", sum_value)\n",
    "\n",
    "# Calculate mean\n",
    "mean_value = series.mean()\n",
    "print(\"Mean:\", mean_value)\n",
    "\n",
    "# Calculate median\n",
    "median_value = series.median()\n",
    "print(\"Median:\", median_value)\n",
    "\n",
    "# Calculate standard deviation\n",
    "std_deviation_value = series.std()\n",
    "print(\"Standard Deviation:\", std_deviation_value)\n"
   ]
  },
  {
   "cell_type": "code",
   "execution_count": 39,
   "id": "25296f94-2467-4293-bf40-084746ec5cf4",
   "metadata": {},
   "outputs": [
    {
     "name": "stdout",
     "output_type": "stream",
     "text": [
      "Maximum value: 92 at index label: 3\n",
      "Minimum value: 35 at index label: 4\n",
      "\n",
      "Sorted Series:\n",
      "4    35\n",
      "1    45\n",
      "5    68\n",
      "2    78\n",
      "3    92\n",
      "dtype: int64\n"
     ]
    }
   ],
   "source": [
    "# Create a Series\n",
    "data = [45, 78, 92, 35, 68]\n",
    "custom_index = ['1', '2', '3', '4', '5']\n",
    "series = pd.Series(data, index=custom_index)\n",
    "\n",
    "# Find maximum value and its index label\n",
    "max_value = series.max()\n",
    "max_index = series.idxmax()\n",
    "\n",
    "# Find minimum value and its index label\n",
    "min_value = series.min()\n",
    "min_index = series.idxmin()\n",
    "\n",
    "# Print maximum and minimum values with their index labels\n",
    "print(\"Maximum value:\", max_value, \"at index label:\", max_index)\n",
    "print(\"Minimum value:\", min_value, \"at index label:\", min_index)\n",
    "\n",
    "# Sort the Series\n",
    "sorted_series = series.sort_values()\n",
    "\n",
    "# Print sorted Series\n",
    "print(\"\\nSorted Series:\")\n",
    "print(sorted_series)\n"
   ]
  }
 ],
 "metadata": {
  "kernelspec": {
   "display_name": "Python 3 (ipykernel)",
   "language": "python",
   "name": "python3"
  },
  "language_info": {
   "codemirror_mode": {
    "name": "ipython",
    "version": 3
   },
   "file_extension": ".py",
   "mimetype": "text/x-python",
   "name": "python",
   "nbconvert_exporter": "python",
   "pygments_lexer": "ipython3",
   "version": "3.12.0"
  }
 },
 "nbformat": 4,
 "nbformat_minor": 5
}
