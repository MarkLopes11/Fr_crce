{
 "cells": [
  {
   "cell_type": "code",
   "execution_count": 1,
   "metadata": {},
   "outputs": [
    {
     "name": "stdout",
     "output_type": "stream",
     "text": [
      "What is your name?Mark\n",
      "Your name is Mark\n"
     ]
    }
   ],
   "source": [
    "def same(str):\n",
    "    return str\n",
    "\n",
    "\n",
    "string = input(\"What is your name?\")\n",
    "print(f\"Your name is {same(string)}\")"
   ]
  },
  {
   "cell_type": "code",
   "execution_count": 2,
   "metadata": {},
   "outputs": [
    {
     "name": "stdout",
     "output_type": "stream",
     "text": [
      "Enter a number: 4\n",
      "The value is 1\n"
     ]
    }
   ],
   "source": [
    "def subtract_three(n):\n",
    "    return(n-3)\n",
    "    \n",
    "no = int(input(\"Enter a number: \"))\n",
    "print(f\"The value is {subtract_three(no)}\")"
   ]
  },
  {
   "cell_type": "code",
   "execution_count": 3,
   "metadata": {},
   "outputs": [
    {
     "name": "stdout",
     "output_type": "stream",
     "text": [
      "WHats your name?Becky\n",
      "Hello, My name is Becky and i love SI 106\n"
     ]
    }
   ],
   "source": [
    "def intro(str):\n",
    "    return(f\"Hello, My name is {str} and i love SI 106\")\n",
    "\n",
    "name = input(\"WHats your name?\")\n",
    "print(intro(name))"
   ]
  },
  {
   "cell_type": "code",
   "execution_count": 4,
   "metadata": {},
   "outputs": [
    {
     "name": "stdout",
     "output_type": "stream",
     "text": [
      "The total value is 15\n"
     ]
    }
   ],
   "source": [
    "def total(ls):\n",
    "    sum = 0\n",
    "    for i in ls:\n",
    "        sum+=i\n",
    "    return sum\n",
    "\n",
    "l = [1,2,3,4,5]\n",
    "print(f\"The total value is {total(l)}\")"
   ]
  },
  {
   "cell_type": "code",
   "execution_count": 5,
   "metadata": {},
   "outputs": [
    {
     "name": "stdout",
     "output_type": "stream",
     "text": [
      "[0, 2, 4, 6, 8, 10, 12, 14]\n"
     ]
    }
   ],
   "source": [
    "eve_nums = []\n",
    "count = 0\n",
    "while count<16:\n",
    "    if count%2==0:\n",
    "        eve_nums.append(count)\n",
    "    count = count +1\n",
    "print(eve_nums)\n",
    "        \n"
   ]
  },
  {
   "cell_type": "code",
   "execution_count": 7,
   "metadata": {},
   "outputs": [
    {
     "name": "stdout",
     "output_type": "stream",
     "text": [
      "They are equal\n"
     ]
    }
   ],
   "source": [
    "sum1=0\n",
    "first = [65,78,21,33]\n",
    "for x in first:\n",
    "    sum1 = sum1+x\n",
    "\n",
    "sum2 = 0\n",
    "second = [65,78,21,33]\n",
    "i = 0\n",
    "while i < len(second):\n",
    "    sum2 = sum2 + second[i]\n",
    "    i = i+1\n",
    "if sum1==sum2:\n",
    "    print(\"They are equal\")"
   ]
  },
  {
   "cell_type": "code",
   "execution_count": 15,
   "metadata": {},
   "outputs": [
    {
     "name": "stdout",
     "output_type": "stream",
     "text": [
      "Enter n1: 5\n",
      "Enter n2: 2\n",
      "The value is  20\n"
     ]
    }
   ],
   "source": [
    "def addit(n1):\n",
    "    n1 = n1+5\n",
    "    return n1\n",
    "\n",
    "def mult(n2):\n",
    "    n2 = n2*addit(n1)\n",
    "    return n2\n",
    "n1 = int(input(\"Enter n1: \"))\n",
    "n2 = int(input(\"Enter n2: \"))\n",
    "print(\"The value is \",mult(n2))\n",
    "    "
   ]
  },
  {
   "cell_type": "code",
   "execution_count": 16,
   "metadata": {},
   "outputs": [
    {
     "name": "stdout",
     "output_type": "stream",
     "text": [
      "Type of medal: gold\n",
      "Number of medals: 33\n",
      "Type of medal: silver\n",
      "Number of medals: 17\n",
      "Type of medal: bronze\n",
      "Number of medals: 12\n",
      "{'gold': 33, 'silver': 17, 'bronze': 12}\n"
     ]
    }
   ],
   "source": [
    "medal = {}\n",
    "\n",
    "for i in range(3):\n",
    "    key = input(\"Type of medal: \")\n",
    "    value = int(input(\"Number of medals: \"))\n",
    "    medal[key] = value\n",
    "print(medal)"
   ]
  },
  {
   "cell_type": "code",
   "execution_count": 21,
   "metadata": {},
   "outputs": [
    {
     "name": "stdout",
     "output_type": "stream",
     "text": [
      "['Zaptos', 'Charizard', 'Diglett', 'Tauros', 'Lanturn', 'Wailord']\n"
     ]
    }
   ],
   "source": [
    "lst_tups = [(\"Articuno\", \"Moltres\", \"Zaptos\"), (\"Beedrill\", \"Metapod\", \"Charizard\", \"Venasaur\",\n",
    "\"Squirtle\"), (\"Oddish\", \"Poliwag\", \"Diglett\",\"Bellsprout\"), (\"Ponyta\", \"Farfetch\", \"Tauros\",\n",
    "\"Dragonite\"),(\"Hoothoot\", \"Chikorita\", \"Lanturn\", \"Flaaffy\", \"Unown\", \"Teddiursa\", \"Phanpy\"),\n",
    "(\"Loudred\", \"Volbeat\", \"Wailord\", \"Seviper\", \"Sealeo\")]\n",
    "\n",
    "third=[]\n",
    "for i in lst_tups:\n",
    "    third.append(i[2])\n",
    "print(third)"
   ]
  },
  {
   "cell_type": "code",
   "execution_count": 22,
   "metadata": {},
   "outputs": [
    {
     "name": "stdout",
     "output_type": "stream",
     "text": [
      "['19', '14378', '8907', '16', '1005', '44', '33', '32', '871', '1450']\n"
     ]
    }
   ],
   "source": [
    "nums = ['1450', '33', '871', '19', '14378', '32', '1005', '44', '8907', '16']\n",
    "def last_char(nums):\n",
    "    return nums[-1]\n",
    "nums_sorted = sorted(nums, key=last_char, reverse = True)\n",
    "print(nums_sorted)"
   ]
  },
  {
   "cell_type": "code",
   "execution_count": 1,
   "metadata": {},
   "outputs": [
    {
     "name": "stdout",
     "output_type": "stream",
     "text": [
      "|1|2|3|\n",
      "|4|5|6|\n",
      "|7|8|9|\n",
      "\n",
      "X's turn.\n",
      "|X|-|-|\n",
      "|-|-|-|\n",
      "|-|-|-|\n",
      "\n",
      "O's turn.\n",
      "|X|-|-|\n",
      "|-|O|-|\n",
      "|-|-|-|\n",
      "\n",
      "X's turn.\n",
      "|X|X|-|\n",
      "|-|O|-|\n",
      "|-|-|-|\n",
      "\n",
      "O's turn.\n",
      "|X|X|-|\n",
      "|-|O|O|\n",
      "|-|-|-|\n",
      "\n",
      "X's turn.\n",
      "|X|X|X|\n",
      "|-|O|O|\n",
      "|-|-|-|\n",
      "X wins!\n"
     ]
    }
   ],
   "source": [
    "def print_board(board):\n",
    "    print(f\"|{board[0]}|{board[1]}|{board[2]}|\\n|{board[3]}|{board[4]}|{board[5]}|\\n|{board[6]}|{board[7]}|{board[8]}|\")\n",
    "\n",
    "def check_win(board, player):\n",
    "    # Check rows, columns, and diagonals for a win\n",
    "    return (\n",
    "        (board[0] == board[1] == board[2] == player) or\n",
    "        (board[3] == board[4] == board[5] == player) or\n",
    "        (board[6] == board[7] == board[8] == player) or\n",
    "        (board[0] == board[3] == board[6] == player) or\n",
    "        (board[1] == board[4] == board[7] == player) or\n",
    "        (board[2] == board[5] == board[8] == player) or\n",
    "        (board[0] == board[4] == board[8] == player) or\n",
    "        (board[2] == board[4] == board[6] == player)\n",
    "    )\n",
    "\n",
    "def check_tie(board):\n",
    "    # Check if the board is full and no player has won\n",
    "    return \"-\" not in board\n",
    "\n",
    "def player_turn(board, player, position):\n",
    "    # Update the board with the player's move\n",
    "    if board[position - 1] == \"-\":\n",
    "        board[position - 1] = player\n",
    "        return True\n",
    "    else:\n",
    "        print(\"Invalid move. The position is already occupied. Try again.\")\n",
    "        return False\n",
    "\n",
    "def play_game():\n",
    "    empty_board = [\"-\", \"-\", \"-\", \"-\", \"-\", \"-\", \"-\", \"-\", \"-\"]\n",
    "    select_board = ['1', '2', '3', '4', '5', '6', '7', '8', '9']\n",
    "\n",
    "    print_board(select_board)\n",
    "\n",
    "    player1 = \"X\"\n",
    "    player2 = \"O\"\n",
    "    current_player = player1\n",
    "\n",
    "    while True:\n",
    "        print(f\"\\n{current_player}'s turn.\")\n",
    "        position = int(input(\"Enter the position (1-9): \"))\n",
    "\n",
    "        if 1 <= position <= 9:\n",
    "            if player_turn(empty_board, current_player, position):\n",
    "                print_board(empty_board)\n",
    "\n",
    "                if check_win(empty_board, current_player):\n",
    "                    print(f\"{current_player} wins!\")\n",
    "                    break\n",
    "                elif check_tie(empty_board):\n",
    "                    print(\"It's a tie!\")\n",
    "                    break\n",
    "\n",
    "                # Switch to the next player\n",
    "                current_player = player2 if current_player == player1 else player1\n",
    "            else:\n",
    "                continue\n",
    "        else:\n",
    "            print(\"Invalid position. Please enter a number between 1 and 9.\")\n",
    "\n",
    "if __name__ == \"__main__\":\n",
    "    play_game()\n"
   ]
  },
  {
   "cell_type": "code",
   "execution_count": null,
   "metadata": {},
   "outputs": [
    {
     "name": "stdout",
     "output_type": "stream",
     "text": [
      "Welcome to the Word Guessing Game!\n",
      "Category: Programming Languages\n",
      "Word: ----\n"
     ]
    },
    {
     "name": "stdin",
     "output_type": "stream",
     "text": [
      "Enter a letter:  j\n"
     ]
    },
    {
     "name": "stdout",
     "output_type": "stream",
     "text": [
      "Incorrect! Revealing a letter: ----\n",
      "Word: ----\n"
     ]
    },
    {
     "name": "stdin",
     "output_type": "stream",
     "text": [
      "Enter a letter:  a\n"
     ]
    },
    {
     "name": "stdout",
     "output_type": "stream",
     "text": [
      "Incorrect! Revealing a letter: ----\n",
      "Word: ----\n"
     ]
    }
   ],
   "source": [
    "import random\n",
    "\n",
    "def choose_word():\n",
    "    words = [\"python\", \"java\", \"javascript\", \"ruby\", \"html\", \"css\"]\n",
    "    return random.choice(words)\n",
    "\n",
    "def display_word(word, guessed_letters):\n",
    "    return ''.join(letter if letter in guessed_letters else '-' for letter in word)\n",
    "\n",
    "def word_guessing_game():\n",
    "    word_to_guess = choose_word()\n",
    "    guessed_letters = []\n",
    "    attempts = 0\n",
    "\n",
    "    print(\"Welcome to the Word Guessing Game!\")\n",
    "    print(\"Category: Programming Languages\")\n",
    "\n",
    "    while '-' in display_word(word_to_guess, guessed_letters):\n",
    "        print(\"Word: \" + display_word(word_to_guess, guessed_letters))\n",
    "        user_guess = input(\"Enter a letter: \").lower()\n",
    "\n",
    "        if user_guess.isalpha() and len(user_guess) == 1:\n",
    "            if user_guess in guessed_letters:\n",
    "                print(\"You already guessed that letter. Try again.\")\n",
    "            elif user_guess in word_to_guess:\n",
    "                guessed_letters.append(user_guess)\n",
    "                print(\"Good guess!\")\n",
    "            else:\n",
    "                attempts += 1\n",
    "                revealed_letter = random.choice([letter for letter in word_to_guess if letter not in guessed_letters])\n",
    "                guessed_letters.append(revealed_letter)\n",
    "                print(f\"Incorrect! Revealing a letter: {display_word(word_to_guess, guessed_letters)}\")\n",
    "        else:\n",
    "            print(\"Invalid input. Please enter a single letter.\")\n",
    "\n",
    "    print(f\"Congratulations! You guessed the word '{word_to_guess}' in {attempts} attempts.\")\n",
    "\n",
    "if __name__ == \"__main__\":\n",
    "    word_guessing_game()\n"
   ]
  },
  {
   "cell_type": "code",
   "execution_count": null,
   "metadata": {},
   "outputs": [],
   "source": []
  }
 ],
 "metadata": {
  "kernelspec": {
   "display_name": "Python 3 (ipykernel)",
   "language": "python",
   "name": "python3"
  },
  "language_info": {
   "codemirror_mode": {
    "name": "ipython",
    "version": 3
   },
   "file_extension": ".py",
   "mimetype": "text/x-python",
   "name": "python",
   "nbconvert_exporter": "python",
   "pygments_lexer": "ipython3",
   "version": "3.12.0"
  }
 },
 "nbformat": 4,
 "nbformat_minor": 4
}
