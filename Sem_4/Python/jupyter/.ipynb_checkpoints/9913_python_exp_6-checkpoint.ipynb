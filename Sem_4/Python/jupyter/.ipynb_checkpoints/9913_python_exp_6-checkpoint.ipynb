{
  "nbformat": 4,
  "nbformat_minor": 0,
  "metadata": {
    "colab": {
      "provenance": []
    },
    "kernelspec": {
      "name": "python3",
      "display_name": "Python 3"
    },
    "language_info": {
      "name": "python"
    }
  },
  "cells": [
    {
      "cell_type": "code",
      "execution_count": 11,
      "metadata": {
        "colab": {
          "base_uri": "https://localhost:8080/"
        },
        "id": "79BEqAfVslqO",
        "outputId": "9bec4fbe-f5bd-4a5c-97d2-4517411febfb"
      },
      "outputs": [
        {
          "output_type": "stream",
          "name": "stdout",
          "text": [
            "Frequency of Article (a) is 8, Frequency of Article (an) is 1, Frequency of Article (the) is 34\n",
            "\n",
            "Dates found in Paragraphs: 10 May 1857\n"
          ]
        },
        {
          "output_type": "stream",
          "name": "stderr",
          "text": [
            "[nltk_data] Downloading package punkt to /root/nltk_data...\n",
            "[nltk_data]   Package punkt is already up-to-date!\n",
            "[nltk_data] Downloading package averaged_perceptron_tagger to\n",
            "[nltk_data]     /root/nltk_data...\n",
            "[nltk_data]   Package averaged_perceptron_tagger is already up-to-\n",
            "[nltk_data]       date!\n"
          ]
        }
      ],
      "source": [
        "import nltk\n",
        "from nltk.tokenize import word_tokenize\n",
        "from nltk.tag import pos_tag\n",
        "import re\n",
        "nltk.download('punkt')\n",
        "nltk.download('averaged_perceptron_tagger')\n",
        "\n",
        "def count_articles(text):\n",
        "    tokens = word_tokenize(text)\n",
        "    tags = pos_tag(tokens)\n",
        "    article_count = {'a': 0, 'an': 0, 'the': 0}\n",
        "\n",
        "    for i in range(len(tags)):\n",
        "        if tags[i][0].lower() in ['a', 'an', 'the'] and tags[i][1] == 'DT':\n",
        "            article_count[tags[i][0].lower()] += 1\n",
        "\n",
        "    return article_count\n",
        "\n",
        "def extract_dates(text):\n",
        "    # Define regex patterns for different date formats\n",
        "    date_patterns = [\n",
        "        r'\\d{1,2}/\\d{1,2}/(?:\\d{4}|\\d{2})',  # 15/11/2012 or 15/11/12\n",
        "        r'\\d{1,2}(?:st|nd|rd|th)? (?:January|February|March|April|May|June|July|August|September|October|November|December)[, ](?:\\d{4}|\\d{2})',  # 15th March 1999 or 15th of March, 1999\n",
        "        r'(?:January|February|March|April|May|June|July|August|September|October|November|December) \\d{1,2}(?:st|nd|rd|th)?[, ](?:\\d{4}|\\d{2})'  # March 15th, 1999\n",
        "    ]\n",
        "\n",
        "    dates = []\n",
        "    for pattern in date_patterns:\n",
        "        dates.extend(re.findall(pattern, text))\n",
        "\n",
        "    return dates\n",
        "\n",
        "text = \"\"\"\n",
        "Delhi, is a metropolitan and the capital region of India which includes the national capital city, New Delhi.\n",
        "It is the second most populous metropolis in India after Mumbai and the largest city in terms of area.\n",
        "Mumbai, also known as Bombay, is the capital city of the Indian state of Maharashtra.\n",
        "It is the most populous city in India, and the fourth most populous city in the world, with a total metropolitan area population of approximately 20.5 million.\n",
        "New York is a state in the Northeastern region of the United States. New York is the 27th-most extensive, the 3rd-most populous, and the 7th-most densely populated of the 50 United States.\n",
        "The Indian Rebellion of 1857 began as a mutiny of sepoys of the East India Company's army on 10 May 1857, in the town of Meerut, and soon escalated into other mutinies and civilian rebellions largely in the upper Gangetic plain and central India, with the major hostilities confined to present-day Uttar Pradesh, Bihar, northern Madhya Pradesh, and the Delhi region.\n",
        "The Boston Tea Party (referred to in its time simply as \"the destruction of the tea\" or by other informal names and so named until half a century later,[2]) was a political protest by the Sons of Liberty in Boston, a city in the British colony of Massachusetts, against the tax policy of the British government and the East India Company that controlled all the tea imported into the colonies. On December 16, 1773, after officials in Boston refused to return three shiploads of taxed tea to Britain, a group of colonists boarded the ships and destroyed the tea by throwing it into Boston Harbor. The incident remains an iconic event of American history, and other political protests often refer to it\n",
        "\"\"\"\n",
        "\n",
        "articles_count = count_articles(text)\n",
        "dates = extract_dates(text)\n",
        "\n",
        "print(f\"Frequency of Article (a) is {articles_count['a']}, Frequency of Article (an) is {articles_count['an']}, Frequency of Article (the) is {articles_count['the']}\")\n",
        "print(\"\\nDates found in Paragraphs:\", \", \".join(dates))\n"
      ]
    },
    {
      "cell_type": "code",
      "source": [],
      "metadata": {
        "colab": {
          "base_uri": "https://localhost:8080/"
        },
        "id": "FjqAUs5ft6kN",
        "outputId": "f094c4ff-5f55-44b4-9d27-17901b2dd470"
      },
      "execution_count": 10,
      "outputs": [
        {
          "output_type": "stream",
          "name": "stdout",
          "text": [
            "Frequency of articles:\n",
            "a: 8\n",
            "an: 1\n",
            "the: 34\n",
            "\n",
            "Extracted dates:\n",
            "10 May 1857\n"
          ]
        },
        {
          "output_type": "stream",
          "name": "stderr",
          "text": [
            "[nltk_data] Downloading package punkt to /root/nltk_data...\n",
            "[nltk_data]   Package punkt is already up-to-date!\n",
            "[nltk_data] Downloading package averaged_perceptron_tagger to\n",
            "[nltk_data]     /root/nltk_data...\n",
            "[nltk_data]   Package averaged_perceptron_tagger is already up-to-\n",
            "[nltk_data]       date!\n"
          ]
        }
      ]
    }
  ]
}