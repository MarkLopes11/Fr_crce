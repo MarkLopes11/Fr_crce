{
 "cells": [
  {
   "cell_type": "code",
   "execution_count": 2,
   "metadata": {},
   "outputs": [
    {
     "name": "stdout",
     "output_type": "stream",
     "text": [
      "Enter a number: 96\n",
      "9 6\n"
     ]
    }
   ],
   "source": [
    "n = int(input(\"Enter a number: \"))\n",
    "d1 = n//10\n",
    "d2 = n%10\n",
    "print(d1,d2)"
   ]
  },
  {
   "cell_type": "code",
   "execution_count": 7,
   "metadata": {},
   "outputs": [
    {
     "name": "stdout",
     "output_type": "stream",
     "text": [
      "Enter number: 987\n",
      "3\n"
     ]
    }
   ],
   "source": [
    "n = input(\"Enter number: \")\n",
    "print(len(n))"
   ]
  },
  {
   "cell_type": "code",
   "execution_count": 9,
   "metadata": {},
   "outputs": [
    {
     "name": "stdout",
     "output_type": "stream",
     "text": [
      "[4, 16]\n",
      "[1, 9, 25]\n"
     ]
    }
   ],
   "source": [
    "l = [1,2,3,4,5]\n",
    "le=[]\n",
    "lo=[]\n",
    "\n",
    "for i in l:\n",
    "    if i%2==0:\n",
    "        le.append(i*i)\n",
    "    else:\n",
    "        lo.append(i*i)\n",
    "        \n",
    "print(le)\n",
    "print(lo)\n",
    "        "
   ]
  },
  {
   "cell_type": "code",
   "execution_count": 22,
   "metadata": {},
   "outputs": [
    {
     "name": "stdout",
     "output_type": "stream",
     "text": [
      "Enter a day: sat\n",
      "sat is a day of the week\n"
     ]
    }
   ],
   "source": [
    "l = ['Mon','Tues','Wed','Thurs','Fri','Sat']\n",
    "l= [x.lower() for x in l]\n",
    "\n",
    "day = input(\"Enter a day: \")\n",
    "day = day.lower()\n",
    "\n",
    "if day in l :\n",
    "    print(f\"{day} is a day of the week\")\n",
    "else:\n",
    "    print(f\"{day} is not a day of the week\")"
   ]
  },
  {
   "cell_type": "code",
   "execution_count": 26,
   "metadata": {},
   "outputs": [
    {
     "name": "stdout",
     "output_type": "stream",
     "text": [
      "[1, 2, 'apple', 'orange']\n"
     ]
    }
   ],
   "source": [
    "t = (1,2,3)\n",
    "l=list(t)\n",
    "l.remove(3)\n",
    "l.append(\"apple\")\n",
    "l.append(\"orange\")\n",
    "print(l)"
   ]
  },
  {
   "cell_type": "code",
   "execution_count": 29,
   "metadata": {},
   "outputs": [
    {
     "name": "stdout",
     "output_type": "stream",
     "text": [
      "a=67, b=77\n",
      "a=77, b=67\n"
     ]
    }
   ],
   "source": [
    "a = 67\n",
    "b = 77\n",
    "print(f\"a={a}, b={b}\")\n",
    "(a,b) = (b,a)\n",
    "print(f\"a={a}, b={b}\")"
   ]
  },
  {
   "cell_type": "code",
   "execution_count": 32,
   "metadata": {},
   "outputs": [
    {
     "name": "stdout",
     "output_type": "stream",
     "text": [
      "{'txt': 'text', 'png': 'file', 'py': 'python file'}\n",
      "{'txt': 'text', 'png': 'file', 'py': 'python file', 'doc': 'Word File'}\n"
     ]
    }
   ],
   "source": [
    "d = {}\n",
    "d={\"txt\":\"text\",'png':'file','py':'python file'}\n",
    "print(d)\n",
    "d['doc'] = 'Word File'\n",
    "print(d)"
   ]
  },
  {
   "cell_type": "code",
   "execution_count": 56,
   "metadata": {},
   "outputs": [
    {
     "name": "stdout",
     "output_type": "stream",
     "text": [
      "union set = {1, 2, 3, 4, 5, 6, 7, 8}\n",
      "intersection set = {4, 5}\n",
      "Differernce set(s1-s2) = {1, 2, 3}\n",
      "Differernce set(s2-s1) = {8, 6, 7}\n",
      "Symmetric difference = {1, 2, 3, 6, 7, 8}\n"
     ]
    }
   ],
   "source": [
    "s1 = {1, 2, 3, 4, 5}\n",
    "s2 = {4, 5, 6, 7, 8}\n",
    "\n",
    "print(f\"union set = {s1.union(s2)}\")\n",
    "\n",
    "print(f\"intersection set = {s1.intersection(s2)}\")\n",
    "\n",
    "print(f\"Differernce set(s1-s2) = {s1.difference(s2)}\")\n",
    "print(f\"Differernce set(s2-s1) = {s2.difference(s1)}\")\n",
    "\n",
    "print(f\"Symmetric difference = {s1.symmetric_difference(s2)}\")\n",
    "\n"
   ]
  },
  {
   "cell_type": "code",
   "execution_count": 61,
   "metadata": {},
   "outputs": [
    {
     "name": "stdout",
     "output_type": "stream",
     "text": [
      "Enter date: 6 Feb 2008\n",
      "(2008, 2, 6)\n"
     ]
    }
   ],
   "source": [
    "l = [\"Jan\", 'Feb', 'Mar', 'Apr','May','Jun','Jul','Aug','Sep','Oct','Nov','Dec']\n",
    "date = input(\"Enter date: \")\n",
    "date = date.replace(',',\"\")\n",
    "date = date.split()\n",
    "date[1] = l.index(date[1])+1\n",
    "date[0]=int(date[0])\n",
    "date[1]=int(date[1])\n",
    "date[2]= int(date[2])\n",
    "date = tuple(date[::-1])\n",
    "\n",
    "print(date)\n",
    "\n",
    "   \n",
    "      "
   ]
  },
  {
   "cell_type": "code",
   "execution_count": 67,
   "metadata": {},
   "outputs": [
    {
     "ename": "TypeError",
     "evalue": "'str' object does not support item assignment",
     "output_type": "error",
     "traceback": [
      "\u001b[0;31m---------------------------------------------------------------------------\u001b[0m",
      "\u001b[0;31mTypeError\u001b[0m                                 Traceback (most recent call last)",
      "\u001b[0;32m<ipython-input-67-73f77c37d725>\u001b[0m in \u001b[0;36m<module>\u001b[0;34m\u001b[0m\n\u001b[1;32m      5\u001b[0m \u001b[0mx\u001b[0m\u001b[0;34m[\u001b[0m\u001b[0;36m1\u001b[0m\u001b[0;34m]\u001b[0m \u001b[0;34m=\u001b[0m \u001b[0mx\u001b[0m\u001b[0;34m[\u001b[0m\u001b[0;36m1\u001b[0m\u001b[0;34m]\u001b[0m \u001b[0;34m+\u001b[0m \u001b[0;34m'd'\u001b[0m \u001b[0;31m# Statement 5\u001b[0m\u001b[0;34m\u001b[0m\u001b[0;34m\u001b[0m\u001b[0m\n\u001b[1;32m      6\u001b[0m \u001b[0my\u001b[0m\u001b[0;34m[\u001b[0m\u001b[0;36m2\u001b[0m\u001b[0;34m]\u001b[0m \u001b[0;34m=\u001b[0m \u001b[0;36m4\u001b[0m \u001b[0;31m# Statement 6\u001b[0m\u001b[0;34m\u001b[0m\u001b[0;34m\u001b[0m\u001b[0m\n\u001b[0;32m----> 7\u001b[0;31m \u001b[0mx\u001b[0m\u001b[0;34m[\u001b[0m\u001b[0;36m1\u001b[0m\u001b[0;34m]\u001b[0m\u001b[0;34m[\u001b[0m\u001b[0;36m1\u001b[0m\u001b[0;34m]\u001b[0m \u001b[0;34m=\u001b[0m \u001b[0;34m'y'\u001b[0m \u001b[0;31m# Statement 7\u001b[0m\u001b[0;34m\u001b[0m\u001b[0;34m\u001b[0m\u001b[0m\n\u001b[0m\u001b[1;32m      8\u001b[0m \u001b[0mz\u001b[0m\u001b[0;34m[\u001b[0m\u001b[0;36m0\u001b[0m\u001b[0;34m]\u001b[0m \u001b[0;34m=\u001b[0m \u001b[0;36m0\u001b[0m \u001b[0;31m# Statement 8\u001b[0m\u001b[0;34m\u001b[0m\u001b[0;34m\u001b[0m\u001b[0m\n\u001b[1;32m      9\u001b[0m \u001b[0mw\u001b[0m\u001b[0;34m[\u001b[0m\u001b[0;36m4\u001b[0m\u001b[0;34m]\u001b[0m\u001b[0;34m[\u001b[0m\u001b[0;36m0\u001b[0m\u001b[0;34m]\u001b[0m \u001b[0;34m=\u001b[0m \u001b[0;36m1000\u001b[0m \u001b[0;31m# Statement 9\u001b[0m\u001b[0;34m\u001b[0m\u001b[0;34m\u001b[0m\u001b[0m\n",
      "\u001b[0;31mTypeError\u001b[0m: 'str' object does not support item assignment"
     ]
    }
   ],
   "source": [
    "x = [1,\"abcd\", 2,\"efgh\", [3, 4]]\n",
    "y = x [0:50] # Statement 2\n",
    "z = y # Statement 3\n",
    "w = x # Statement 4\n",
    "x[1] = x[1] + 'd' # Statement 5\n",
    "y[2] = 4 # Statement 6\n",
    "x[1][1] = 'y' # Statement 7\n",
    "z[0] = 0 # Statement 8\n",
    "w[4][0] = 1000 # Statement 9\n",
    "a = (x[4][1] == 4) # Statement 10\n"
   ]
  },
  {
   "cell_type": "code",
   "execution_count": 55,
   "metadata": {},
   "outputs": [],
   "source": [
    "\n",
    "\n"
   ]
  },
  {
   "cell_type": "code",
   "execution_count": 81,
   "metadata": {},
   "outputs": [
    {
     "name": "stdout",
     "output_type": "stream",
     "text": [
      "Welcome to the dictionary.\n",
      "The words in the dictionary are : hot cold happy sad \n",
      "Enter the word you want a synonym for: happy\n",
      "cheery\n",
      "Do you want to print the entire dictionary(y,n): y\n",
      "{'hot': ['balmy', 'summery', 'tropical', 'boiling', 'scorching'], 'cold': ['chilly', 'cool', 'freezing', 'frigid', 'polar'], 'happy': ['content', 'cheery', 'merry', 'jovial', 'jocular'], 'sad': ['unhappy', 'downcast', 'miserable', 'glum', 'melancholy']}\n"
     ]
    }
   ],
   "source": [
    "import random\n",
    "\n",
    "thesaurus  = {\"hot\":['balmy', 'summery', 'tropical', 'boiling', 'scorching'],\n",
    "\"cold\":['chilly', 'cool', 'freezing', 'frigid', 'polar'],\n",
    "\"happy\":['content', 'cheery', 'merry', 'jovial', 'jocular'],\n",
    "\n",
    "\"sad\":['unhappy', 'downcast', 'miserable', 'glum', 'melancholy'],}\n",
    "\n",
    "print(\"Welcome to the dictionary.\")\n",
    "print(\"The words in the dictionary are :\",end = ' ')\n",
    "for key in thesaurus.keys():\n",
    "    print(key,end = ' ')\n",
    "word = input(\"\\nEnter the word you want a synonym for: \")\n",
    "#print(random.choice(thesaurus[word]))\n",
    "if word in thesaurus:\n",
    "    print(random.choice(thesaurus[word]))\n",
    "else:\n",
    "    print('Word is not in dictionary')\n",
    "    \n",
    "ans = input(\"Do you want to print the entire dictionary(y,n): \")\n",
    "if ans == 'y':\n",
    "    print(thesaurus)\n",
    "else:\n",
    "    print(\"Have a good day\")\n",
    "\n",
    "\n",
    "\n",
    "\n",
    "       \n",
    "  \n"
   ]
  }
 ],
 "metadata": {
  "kernelspec": {
   "display_name": "Python 3",
   "language": "python",
   "name": "python3"
  },
  "language_info": {
   "codemirror_mode": {
    "name": "ipython",
    "version": 3
   },
   "file_extension": ".py",
   "mimetype": "text/x-python",
   "name": "python",
   "nbconvert_exporter": "python",
   "pygments_lexer": "ipython3",
   "version": "3.8.10"
  }
 },
 "nbformat": 4,
 "nbformat_minor": 4
}
