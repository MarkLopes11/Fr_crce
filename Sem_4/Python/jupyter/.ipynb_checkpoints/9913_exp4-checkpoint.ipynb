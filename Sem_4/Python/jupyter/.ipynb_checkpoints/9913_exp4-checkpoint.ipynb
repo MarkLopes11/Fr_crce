{
 "cells": [
  {
   "cell_type": "code",
   "execution_count": 2,
   "metadata": {},
   "outputs": [
    {
     "name": "stdout",
     "output_type": "stream",
     "text": [
      "The name of the student is Mark and roll.no is 9913\n",
      "The student is 19 years old\n",
      "Marks: 99\n"
     ]
    }
   ],
   "source": [
    "class Student:\n",
    "    def __init__(self, name, roll_no):\n",
    "        self.name = name\n",
    "        self.roll_no = roll_no\n",
    "        \n",
    "    def setAge(self,age):\n",
    "        self.age = age\n",
    "    \n",
    "    def setMarks(self,marks):\n",
    "        self.marks = marks\n",
    "        \n",
    "    def display(self):\n",
    "        print(f\"The name of the student is {self.name} and roll.no is {self.roll_no}\")\n",
    "        print(f\"The student is {self.age} years old\")\n",
    "        print(f\"Marks: {self.marks}\")\n",
    "\n",
    "        \n",
    "        \n",
    "student_1 = Student(\"Mark\", 9913) \n",
    "student_1.setAge(19)\n",
    "student_1.setMarks(99)\n",
    "student_1.display()"
   ]
  },
  {
   "cell_type": "code",
   "execution_count": 3,
   "metadata": {},
   "outputs": [
    {
     "name": "stdout",
     "output_type": "stream",
     "text": [
      "2 hrs 80 min\n",
      "3 hrs 40 min\n",
      "7 hrs 0 min\n",
      "Time in minutes: 420\n"
     ]
    }
   ],
   "source": [
    "class Time:\n",
    "    def __init__(self, hours, minutes):\n",
    "        self.hours = hours\n",
    "        self.minutes = minutes\n",
    "        \n",
    "    def addtime(self, time_2):\n",
    "        self.hours += time_2.hours\n",
    "        self.minutes += time_2.minutes\n",
    "        if self.minutes >= 60:\n",
    "            self.hours += self.minutes // 60\n",
    "            self.minutes = self.minutes % 60\n",
    "            \n",
    "    def displayTime(self):\n",
    "        print(f\"{self.hours} hrs {self.minutes} min\")\n",
    "        \n",
    "    def displayMinute(self):\n",
    "        print(f\"Time in minutes: {self.hours * 60 + self.minutes}\")\n",
    "        \n",
    "\n",
    "        \n",
    "time1 = Time(2,80)\n",
    "time2 = Time(3,40)\n",
    "\n",
    "time1.displayTime()\n",
    "time2.displayTime()\n",
    "\n",
    "time1.addtime(time2)\n",
    "\n",
    "time1.displayTime()\n",
    "time1.displayMinute()"
   ]
  },
  {
   "cell_type": "code",
   "execution_count": 5,
   "metadata": {},
   "outputs": [
    {
     "name": "stdout",
     "output_type": "stream",
     "text": [
      "Total price: 5300.0\n"
     ]
    }
   ],
   "source": [
    "class CartItem:\n",
    "    def __init__(self, product_id, quantity, price):\n",
    "        self.product_id = product_id\n",
    "        self.quantity = quantity\n",
    "        self.price = price\n",
    "    \n",
    "    def total_price(self):\n",
    "        return self.quantity * self.price  \n",
    "\n",
    "class PromotionalItem(CartItem):\n",
    "    def __init__(self, product_id, quantity, price, discount_percent):\n",
    "        super().__init__(product_id, quantity, price) #sends the attributes of promotionaitem to cartitem to be initialised\n",
    "        self.discount_percent = discount_percent / 100 #convert discount to decimal(10% = 0.1)\n",
    "        \n",
    "    def total_price(self):\n",
    "        return super().total_price() * (1 - self.discount_percent) #calculate price with discount by using the totalprice in cartitem(super) \n",
    "\n",
    "class RegularItem(CartItem):\n",
    "    pass #it has the same attributes as CartItem hence it is passed\n",
    "\n",
    "class ElectronicItem(PromotionalItem, RegularItem):\n",
    "    pass #same as above\n",
    "\n",
    "class ClothingItem(PromotionalItem, RegularItem):\n",
    "    pass #same as above\n",
    "\n",
    "electronic_item = ElectronicItem(1, 10, 500, 10)\n",
    "clothing_item = ClothingItem(2, 5, 200, 20)\n",
    "\n",
    "cart = []\n",
    "cart.append(electronic_item) #adds electronic_item to cart\n",
    "cart.append(clothing_item) #adds clothing_item to cart\n",
    "\n",
    "total_price = 0  \n",
    "\n",
    "for item in cart:\n",
    "    total_price += item.total_price() #calculate every items price and it simultaneously\n",
    "\n",
    "print(f\"Total price: {total_price}\")"
   ]
  },
  {
   "cell_type": "code",
   "execution_count": 6,
   "metadata": {},
   "outputs": [
    {
     "name": "stdout",
     "output_type": "stream",
     "text": [
      "make: Tesla, model: Model e99, year: 2100\n",
      "make: Toyota, model: Model 1, year: 2010\n",
      "make: eLorry, model: Model e1, year: 2300\n",
      "make: Lorry, model: Model 1, year: 2000\n",
      "\n",
      "\n",
      "Tesla Model e99 is charged to full capacity\n",
      "eLorry Model e1 is charged to full capacity\n"
     ]
    }
   ],
   "source": [
    "class Vehicle:\n",
    "    def __init__(self, make, model, year):\n",
    "        self.make = make\n",
    "        self.model = model\n",
    "        self.year = year\n",
    "        \n",
    "    def display_info(self):\n",
    "        print(f\"make: {self.make}, model: {self.model}, year: {self.year}\")\n",
    "        \n",
    "    \n",
    "        \n",
    "class Car(Vehicle):\n",
    "    pass\n",
    "\n",
    "\n",
    "class Truck(Vehicle):\n",
    "    pass\n",
    "\n",
    "\n",
    "class ElectricVehicle(Vehicle):\n",
    "    def __init__(self, make, model, year, km_travelled_by_battery):\n",
    "        super().__init__(make, model, year)  # Added parentheses\n",
    "        self.km_travelled_by_battery = km_travelled_by_battery\n",
    "    \n",
    "    def charge_battery(self):\n",
    "        print(f\"{self.make} {self.model} is charged to full capacity\")\n",
    "    \n",
    "\n",
    "    \n",
    "class ElectricCar(ElectricVehicle, Car):\n",
    "    def __init__(self, make, model, year, km_travelled_by_battery):\n",
    "        super().__init__(make, model, year, km_travelled_by_battery)\n",
    "\n",
    "\n",
    "class ElectricTruck(ElectricVehicle, Truck):\n",
    "    def __init__(self, make, model, year, km_travelled_by_battery):\n",
    "        super().__init__(make, model, year, km_travelled_by_battery)\n",
    "\n",
    "\n",
    "tesla = ElectricCar(\"Tesla\", \"Model e99\", 2100, 200)\n",
    "toyota = Car(\"Toyota\", \"Model 1\", 2010)\n",
    "electric_truck = ElectricTruck(\"eLorry\", \"Model e1\", 2300, 300)\n",
    "truck = Truck(\"Lorry\", \"Model 1\", 2000)\n",
    "\n",
    "tesla.display_info()\n",
    "toyota.display_info()\n",
    "electric_truck.display_info()\n",
    "truck.display_info()\n",
    "\n",
    "print(\"\\n\")\n",
    "\n",
    "tesla.charge_battery()\n",
    "electric_truck.charge_battery()"
   ]
  },
  {
   "cell_type": "code",
   "execution_count": null,
   "metadata": {},
   "outputs": [],
   "source": []
  }
 ],
 "metadata": {
  "kernelspec": {
   "display_name": "Python 3",
   "language": "python",
   "name": "python3"
  },
  "language_info": {
   "codemirror_mode": {
    "name": "ipython",
    "version": 3
   },
   "file_extension": ".py",
   "mimetype": "text/x-python",
   "name": "python",
   "nbconvert_exporter": "python",
   "pygments_lexer": "ipython3",
   "version": "3.8.10"
  }
 },
 "nbformat": 4,
 "nbformat_minor": 4
}
